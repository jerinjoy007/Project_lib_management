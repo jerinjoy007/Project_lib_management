{
 "cells": [
  {
   "cell_type": "code",
   "execution_count": 19,
   "id": "7a78d9f6-9541-4cdc-8493-9bfa49986702",
   "metadata": {},
   "outputs": [],
   "source": [
    "import cv2"
   ]
  },
  {
   "cell_type": "code",
   "execution_count": 12,
   "id": "65dd24b6-63b2-4b83-a946-44ab57a65709",
   "metadata": {},
   "outputs": [],
   "source": [
    "import face_recognition"
   ]
  },
  {
   "cell_type": "code",
   "execution_count": 13,
   "id": "571df8a5-647c-4c53-aabb-44f769fa2057",
   "metadata": {},
   "outputs": [],
   "source": [
    "#capture the video from default camera \n",
    "webcam_video_stream = cv2.VideoCapture(0)"
   ]
  },
  {
   "cell_type": "code",
   "execution_count": 14,
   "id": "7f0c1c64-d709-436d-b6f9-e931664237dd",
   "metadata": {},
   "outputs": [],
   "source": [
    "#load the sample images and get the 128 face embeddings from them\n",
    "amal_image=face_recognition.load_image_file('C:/Users/AKB/Desktop/nn/amal1.jpg')\n",
    "amal_face_encodings = face_recognition.face_encodings(amal_image)[0]"
   ]
  },
  {
   "cell_type": "code",
   "execution_count": 15,
   "id": "41fdd5d6-7f7b-48ea-90ec-5e0379855037",
   "metadata": {},
   "outputs": [],
   "source": [
    "#save the encodings and the corresponding labels in seperate arrays in the same order\n",
    "known_face_encodings = [amal_face_encodings]\n",
    "known_face_names = [\"amal\"]"
   ]
  },
  {
   "cell_type": "code",
   "execution_count": 16,
   "id": "0a39a694-7866-4635-8902-456a16727d32",
   "metadata": {},
   "outputs": [],
   "source": [
    "#initialize the array variable to hold all face locations, encodings and names \n",
    "all_face_locations = []\n",
    "all_face_encodings = []\n",
    "all_face_names = []"
   ]
  },
  {
   "cell_type": "code",
   "execution_count": 20,
   "id": "cd44b46b-cade-497e-a8ed-e9a92907633d",
   "metadata": {},
   "outputs": [
    {
     "ename": "error",
     "evalue": "OpenCV(4.5.3) C:\\Users\\runneradmin\\AppData\\Local\\Temp\\pip-req-build-q3d_8t8e\\opencv\\modules\\imgproc\\src\\resize.cpp:4051: error: (-215:Assertion failed) !ssize.empty() in function 'cv::resize'\n",
     "output_type": "error",
     "traceback": [
      "\u001b[1;31m---------------------------------------------------------------------------\u001b[0m",
      "\u001b[1;31merror\u001b[0m                                     Traceback (most recent call last)",
      "\u001b[1;32m<ipython-input-20-3f068dc79eb6>\u001b[0m in \u001b[0;36m<module>\u001b[1;34m\u001b[0m\n\u001b[0;32m      5\u001b[0m     \u001b[0mret\u001b[0m\u001b[1;33m,\u001b[0m\u001b[0mcurrent_frame\u001b[0m \u001b[1;33m=\u001b[0m \u001b[0mwebcam_video_stream\u001b[0m\u001b[1;33m.\u001b[0m\u001b[0mread\u001b[0m\u001b[1;33m(\u001b[0m\u001b[1;33m)\u001b[0m\u001b[1;33m\u001b[0m\u001b[1;33m\u001b[0m\u001b[0m\n\u001b[0;32m      6\u001b[0m     \u001b[1;31m#resize the current frame to 1/4 size to proces faster\u001b[0m\u001b[1;33m\u001b[0m\u001b[1;33m\u001b[0m\u001b[1;33m\u001b[0m\u001b[0m\n\u001b[1;32m----> 7\u001b[1;33m     \u001b[0mcurrent_frame_small\u001b[0m \u001b[1;33m=\u001b[0m \u001b[0mcv2\u001b[0m\u001b[1;33m.\u001b[0m\u001b[0mresize\u001b[0m\u001b[1;33m(\u001b[0m\u001b[0mcurrent_frame\u001b[0m\u001b[1;33m,\u001b[0m\u001b[1;33m(\u001b[0m\u001b[1;36m0\u001b[0m\u001b[1;33m,\u001b[0m\u001b[1;36m0\u001b[0m\u001b[1;33m)\u001b[0m\u001b[1;33m,\u001b[0m\u001b[0mfx\u001b[0m\u001b[1;33m=\u001b[0m\u001b[1;36m0.25\u001b[0m\u001b[1;33m,\u001b[0m\u001b[0mfy\u001b[0m\u001b[1;33m=\u001b[0m\u001b[1;36m0.25\u001b[0m\u001b[1;33m)\u001b[0m\u001b[1;33m\u001b[0m\u001b[1;33m\u001b[0m\u001b[0m\n\u001b[0m\u001b[0;32m      8\u001b[0m     \u001b[1;31m#detect all faces in the image\u001b[0m\u001b[1;33m\u001b[0m\u001b[1;33m\u001b[0m\u001b[1;33m\u001b[0m\u001b[0m\n\u001b[0;32m      9\u001b[0m     \u001b[1;31m#arguments are image,no_of_times_to_upsample, model\u001b[0m\u001b[1;33m\u001b[0m\u001b[1;33m\u001b[0m\u001b[1;33m\u001b[0m\u001b[0m\n",
      "\u001b[1;31merror\u001b[0m: OpenCV(4.5.3) C:\\Users\\runneradmin\\AppData\\Local\\Temp\\pip-req-build-q3d_8t8e\\opencv\\modules\\imgproc\\src\\resize.cpp:4051: error: (-215:Assertion failed) !ssize.empty() in function 'cv::resize'\n"
     ]
    }
   ],
   "source": [
    "#loop through every frame in the video\n",
    "c=1\n",
    "while(c==1):\n",
    "    #get the current frame from the video stream as an image\n",
    "    ret,current_frame = webcam_video_stream.read()\n",
    "    #resize the current frame to 1/4 size to proces faster\n",
    "    current_frame_small = cv2.resize(current_frame,(0,0),fx=0.25,fy=0.25)\n",
    "    #detect all faces in the image\n",
    "    #arguments are image,no_of_times_to_upsample, model\n",
    "    all_face_locations = face_recognition.face_locations(current_frame_small,number_of_times_to_upsample=1,model='hog')\n",
    "    \n",
    "    #detect face encodings for all the faces detected\n",
    "    all_face_encodings = face_recognition.face_encodings(current_frame_small,all_face_locations)\n",
    "\n",
    "\n",
    "    #looping through the face locations and the face embeddings\n",
    "    for current_face_location,current_face_encoding in zip(all_face_locations,all_face_encodings):\n",
    "        #splitting the tuple to get the four position values of current face\n",
    "        top_pos,right_pos,bottom_pos,left_pos = current_face_location\n",
    "        \n",
    "        #change the position maginitude to fit the actual size video frame\n",
    "        top_pos = top_pos*4\n",
    "        right_pos = right_pos*4\n",
    "        bottom_pos = bottom_pos*4\n",
    "        left_pos = left_pos*4\n",
    "        \n",
    "        #find all the matches and get the list of matches\n",
    "        all_matches = face_recognition.compare_faces(known_face_encodings, current_face_encoding)\n",
    "       \n",
    "        #string to hold the label\n",
    "        name_of_person = 'Unknown face'\n",
    "        \n",
    "        #check if the all_matches have at least one item\n",
    "        #if yes, get the index number of face that is located in the first index of all_matches\n",
    "        #get the name corresponding to the index number and save it in name_of_person\n",
    "        if True in all_matches:\n",
    "            first_match_index = all_matches.index(True)\n",
    "            name_of_person = known_face_names[first_match_index]\n",
    "            print(name_of_person)\n",
    "            c=0\n",
    "            \n",
    "        \n",
    "        #draw rectangle around the face    \n",
    "        cv2.rectangle(current_frame,(left_pos,top_pos),(right_pos,bottom_pos),(255,0,0),2)\n",
    "        \n",
    "        #display the name as text in the image\n",
    "        font = cv2.FONT_HERSHEY_DUPLEX\n",
    "        cv2.putText(current_frame, name_of_person, (left_pos,bottom_pos), font, 0.5, (255,255,255),1)\n",
    "         \n",
    "        \n",
    "    #display the video\n",
    "    cv2.imshow(\"Webcam Video\",current_frame)\n",
    "    \n",
    "    if cv2.waitKey(1) & 0xFF == ord('q'):\n",
    "        break\n",
    "#release the stream and cam\n",
    "#close all opencv windows open\n",
    "webcam_video_stream.release()\n",
    "cv2.destroyAllWindows()\n"
   ]
  },
  {
   "cell_type": "code",
   "execution_count": null,
   "id": "7ad843d6-f7b8-485d-8dcd-5541f1b325bd",
   "metadata": {},
   "outputs": [],
   "source": []
  },
  {
   "cell_type": "code",
   "execution_count": null,
   "id": "56b7338a-ca62-49e6-b118-19c8998590a0",
   "metadata": {},
   "outputs": [],
   "source": []
  },
  {
   "cell_type": "code",
   "execution_count": null,
   "id": "13b42430-0a0e-41d3-9cd8-5f316b84f8ab",
   "metadata": {},
   "outputs": [],
   "source": []
  },
  {
   "cell_type": "code",
   "execution_count": null,
   "id": "c029229e-5bd8-4237-85e8-7f968cbf2c32",
   "metadata": {},
   "outputs": [],
   "source": []
  },
  {
   "cell_type": "code",
   "execution_count": null,
   "id": "8d5c083c-32cd-4dcc-b694-298a9285a47a",
   "metadata": {},
   "outputs": [],
   "source": []
  },
  {
   "cell_type": "code",
   "execution_count": null,
   "id": "512fffef-c9c1-4dbe-999a-05872ab61a5a",
   "metadata": {},
   "outputs": [],
   "source": []
  },
  {
   "cell_type": "code",
   "execution_count": null,
   "id": "73f71827-24a1-4c15-8529-e4ea59974ceb",
   "metadata": {},
   "outputs": [],
   "source": []
  },
  {
   "cell_type": "code",
   "execution_count": null,
   "id": "822347e4-ced7-4941-874d-41d4811dfbee",
   "metadata": {},
   "outputs": [],
   "source": []
  },
  {
   "cell_type": "code",
   "execution_count": null,
   "id": "706c9bfd-65cf-4069-85a9-fb397778bfed",
   "metadata": {},
   "outputs": [],
   "source": []
  },
  {
   "cell_type": "code",
   "execution_count": null,
   "id": "e2da9995-173e-4da0-9ebb-31b74fc5b139",
   "metadata": {},
   "outputs": [],
   "source": []
  }
 ],
 "metadata": {
  "kernelspec": {
   "display_name": "Python 3",
   "language": "python",
   "name": "python3"
  },
  "language_info": {
   "codemirror_mode": {
    "name": "ipython",
    "version": 3
   },
   "file_extension": ".py",
   "mimetype": "text/x-python",
   "name": "python",
   "nbconvert_exporter": "python",
   "pygments_lexer": "ipython3",
   "version": "3.8.8"
  }
 },
 "nbformat": 4,
 "nbformat_minor": 5
}
